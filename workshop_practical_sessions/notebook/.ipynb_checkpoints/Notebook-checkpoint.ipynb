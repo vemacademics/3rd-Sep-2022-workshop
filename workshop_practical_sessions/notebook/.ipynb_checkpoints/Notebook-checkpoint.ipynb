{
 "cells": [
  {
   "cell_type": "markdown",
   "id": "8c546419",
   "metadata": {},
   "source": [
    "## Gender-Based Violence Tweet Classification Challenge "
   ]
  },
  {
   "cell_type": "markdown",
   "id": "1a85a4fa",
   "metadata": {},
   "source": [
    "Gender-based violence, or GBV, is an ongoing and ever-resent scourge around the world, and is particularly prevalent in developing and least-developed countries. Gender-based violence also increased in many parts of the world during the COVID-19 pandemic.\n",
    "\n",
    "One of the greatest challenges in combating GBV is the ‘culture of silence’, where victims of violence are scared, ashamed or intimidated to discuss their experiences with others and often do not report their experiences to authorities.\n",
    "\n",
    "Another challenge faced by victims is achieving justice for their abusers. Some may not be aware of support systems, or not know where and how to report the perpetrators.\n",
    "\n",
    "Victims may find and safety sharing their experiences online (as evidenced by the #MeToo movement), allowing them to get more support in an anonymous and/or safe way.\n",
    "\n",
    "The **objective** of this challenge is create a machine learning algorithm that classifies tweets about GBV into one of five categories:\n",
    "\n",
    "- Sexual violence\n",
    "- Emotional violence\n",
    "- Economic violence\n",
    "- Physical violence\n",
    "- Harmful traditional practice"
   ]
  },
  {
   "cell_type": "markdown",
   "id": "bbf626f9",
   "metadata": {},
   "source": [
    "### 1.Install Required Packages "
   ]
  },
  {
   "cell_type": "code",
   "execution_count": null,
   "id": "a91d093d",
   "metadata": {
    "ExecuteTime": {
     "end_time": "2022-08-25T07:25:03.455479Z",
     "start_time": "2022-08-25T07:25:00.128290Z"
    }
   },
   "outputs": [],
   "source": [
    "!pip install -U nltk #natural language toolkit package"
   ]
  },
  {
   "cell_type": "code",
   "execution_count": null,
   "id": "90c418a4",
   "metadata": {
    "ExecuteTime": {
     "end_time": "2022-08-25T07:25:05.058551Z",
     "start_time": "2022-08-25T07:25:03.457882Z"
    }
   },
   "outputs": [],
   "source": [
    "!pip install numpy # Scientific computing package"
   ]
  },
  {
   "cell_type": "code",
   "execution_count": null,
   "id": "51c48f1b",
   "metadata": {
    "ExecuteTime": {
     "end_time": "2022-08-25T07:25:06.658949Z",
     "start_time": "2022-08-25T07:25:05.061368Z"
    }
   },
   "outputs": [],
   "source": [
    "!pip install pandas # data analysis and manipulation package"
   ]
  },
  {
   "cell_type": "code",
   "execution_count": null,
   "id": "775ea809",
   "metadata": {
    "ExecuteTime": {
     "end_time": "2022-08-25T07:25:08.255615Z",
     "start_time": "2022-08-25T07:25:06.661770Z"
    }
   },
   "outputs": [],
   "source": [
    "!pip install matplotlib # data visualization package"
   ]
  },
  {
   "cell_type": "code",
   "execution_count": null,
   "id": "e1fba56e",
   "metadata": {
    "ExecuteTime": {
     "end_time": "2022-08-25T07:25:09.849077Z",
     "start_time": "2022-08-25T07:25:08.257745Z"
    }
   },
   "outputs": [],
   "source": [
    "!pip install seaborn # data visualization package"
   ]
  },
  {
   "cell_type": "code",
   "execution_count": null,
   "id": "dfc4c225",
   "metadata": {
    "ExecuteTime": {
     "end_time": "2022-08-25T07:25:11.473202Z",
     "start_time": "2022-08-25T07:25:09.851213Z"
    }
   },
   "outputs": [],
   "source": [
    "!pip install scikit-learn  # machine learning algorithms"
   ]
  },
  {
   "cell_type": "code",
   "execution_count": null,
   "id": "c0c72043",
   "metadata": {
    "ExecuteTime": {
     "end_time": "2022-08-25T07:25:13.068854Z",
     "start_time": "2022-08-25T07:25:11.475525Z"
    }
   },
   "outputs": [],
   "source": [
    "!pip install lightgbm   # machine learning algorithm for classification & regresssion tasks"
   ]
  },
  {
   "cell_type": "code",
   "execution_count": null,
   "id": "e933abb3",
   "metadata": {
    "ExecuteTime": {
     "end_time": "2022-08-25T07:25:14.666590Z",
     "start_time": "2022-08-25T07:25:13.072488Z"
    }
   },
   "outputs": [],
   "source": [
    "!pip install imblearn # handling data imbalance."
   ]
  },
  {
   "cell_type": "markdown",
   "id": "f906d24e",
   "metadata": {},
   "source": [
    "### 2 Import Python Packages"
   ]
  },
  {
   "cell_type": "code",
   "execution_count": 1,
   "id": "fb626957",
   "metadata": {
    "ExecuteTime": {
     "end_time": "2022-08-25T09:07:41.179824Z",
     "start_time": "2022-08-25T09:07:36.834627Z"
    }
   },
   "outputs": [
    {
     "name": "stderr",
     "output_type": "stream",
     "text": [
      "[nltk_data] Downloading package stopwords to\n",
      "[nltk_data]     /Users/davisdavid/nltk_data...\n",
      "[nltk_data]   Package stopwords is already up-to-date!\n",
      "[nltk_data] Downloading package wordnet to\n",
      "[nltk_data]     /Users/davisdavid/nltk_data...\n",
      "[nltk_data]   Package wordnet is already up-to-date!\n"
     ]
    }
   ],
   "source": [
    "import numpy as np\n",
    "import pandas as pd\n",
    "\n",
    "import matplotlib.pyplot as plt\n",
    "import seaborn as sns\n",
    "\n",
    "from sklearn.feature_extraction.text import TfidfVectorizer, CountVectorizer\n",
    "from sklearn.model_selection import train_test_split\n",
    "from sklearn.metrics import f1_score\n",
    "from sklearn.preprocessing import LabelEncoder\n",
    "from sklearn.metrics import confusion_matrix, ConfusionMatrixDisplay\n",
    "\n",
    "#import classifier algorithm here\n",
    "from sklearn.linear_model import LogisticRegression\n",
    "from sklearn.ensemble import RandomForestClassifier\n",
    "from sklearn.neighbors import KNeighborsClassifier\n",
    "from sklearn.ensemble import ExtraTreesClassifier\n",
    "from lightgbm import LGBMClassifier\n",
    "\n",
    "#oversampling\n",
    "from imblearn.over_sampling import SMOTE\n",
    "from collections import  Counter\n",
    "\n",
    "import nltk\n",
    "from nltk.corpus import stopwords  # importing stopwords\n",
    "from nltk.stem import WordNetLemmatizer\n",
    "import re  #regular expression\n",
    "from string import punctuation\n",
    "\n",
    "nltk.download('stopwords')  #download stopwords\n",
    "nltk.download('wordnet')  #download wordnet\n",
    "\n",
    "import warnings\n",
    "\n",
    "warnings.filterwarnings('ignore')\n",
    "%matplotlib inline"
   ]
  },
  {
   "cell_type": "markdown",
   "id": "228c2f73",
   "metadata": {},
   "source": [
    "### 3. Load Data"
   ]
  },
  {
   "cell_type": "code",
   "execution_count": 2,
   "id": "6ab241bc",
   "metadata": {
    "ExecuteTime": {
     "end_time": "2022-08-25T09:07:44.413250Z",
     "start_time": "2022-08-25T09:07:44.254748Z"
    }
   },
   "outputs": [],
   "source": [
    "# Import data\n",
    "\n",
    "data = pd.read_csv('../data/Train.csv')\n"
   ]
  },
  {
   "cell_type": "code",
   "execution_count": 3,
   "id": "8f7202e0",
   "metadata": {
    "ExecuteTime": {
     "end_time": "2022-08-25T09:07:44.477387Z",
     "start_time": "2022-08-25T09:07:44.474816Z"
    }
   },
   "outputs": [
    {
     "name": "stdout",
     "output_type": "stream",
     "text": [
      "data shape : (39650, 3)\n"
     ]
    }
   ],
   "source": [
    "# print shape \n",
    "print('data shape :', data.shape)"
   ]
  },
  {
   "cell_type": "code",
   "execution_count": 4,
   "id": "a4d6b861",
   "metadata": {
    "ExecuteTime": {
     "end_time": "2022-08-25T09:07:44.684951Z",
     "start_time": "2022-08-25T09:07:44.669058Z"
    }
   },
   "outputs": [
    {
     "data": {
      "text/html": [
       "<div><div id=5a637705-709a-4878-a11b-e2fa73f74a14 style=\"display:none; background-color:#9D6CFF; color:white; width:200px; height:30px; padding-left:5px; border-radius:4px; flex-direction:row; justify-content:space-around; align-items:center;\" onmouseover=\"this.style.backgroundColor='#BA9BF8'\" onmouseout=\"this.style.backgroundColor='#9D6CFF'\" onclick=\"window.commands?.execute('create-mitosheet-from-dataframe-output');\">See Full Dataframe in Mito</div> <script> if (window.commands.hasCommand('create-mitosheet-from-dataframe-output')) document.getElementById('5a637705-709a-4878-a11b-e2fa73f74a14').style.display = 'flex' </script> <table border=\"1\" class=\"dataframe\">\n",
       "  <thead>\n",
       "    <tr style=\"text-align: right;\">\n",
       "      <th></th>\n",
       "      <th>Tweet_ID</th>\n",
       "      <th>tweet</th>\n",
       "      <th>type</th>\n",
       "    </tr>\n",
       "  </thead>\n",
       "  <tbody>\n",
       "    <tr>\n",
       "      <th>0</th>\n",
       "      <td>ID_0022DWKP</td>\n",
       "      <td>Had a dream i got raped last night. By a guy i work with. Actually a guy i smoked with once at my house but he was doing too much tryna be sexual and it wasn’t even like that for me just wanted to smoke.</td>\n",
       "      <td>sexual_violence</td>\n",
       "    </tr>\n",
       "    <tr>\n",
       "      <th>1</th>\n",
       "      <td>ID_00395QYM</td>\n",
       "      <td>he thought the word raped means sex and told me “i saw our dogs raping eachother” and i was like wtf</td>\n",
       "      <td>sexual_violence</td>\n",
       "    </tr>\n",
       "    <tr>\n",
       "      <th>2</th>\n",
       "      <td>ID_003EOSSF</td>\n",
       "      <td>She NOT TALKING TO ME I WAS RAPED BY 2 MEN 1 MOLESTED HE IN JAIL ON NOTHER CHARGE SO SHE NOT SAYING WORD</td>\n",
       "      <td>sexual_violence</td>\n",
       "    </tr>\n",
       "    <tr>\n",
       "      <th>3</th>\n",
       "      <td>ID_004BBHOD</td>\n",
       "      <td>I was sexually abused for 3 years at age 4 to 7. No one believed me.  I was raped by my bro’s friend in a classroom at 13. He was 18. I told no one cause “Who would believe me?”.  My bro found out when I was 19. His friend bragged to the wrong person.  It is hard to come forward.</td>\n",
       "      <td>sexual_violence</td>\n",
       "    </tr>\n",
       "    <tr>\n",
       "      <th>4</th>\n",
       "      <td>ID_004F7516</td>\n",
       "      <td>Chessy Prout can do better by telling the truth. By not selling Owen Labrie out to hide whoever else's DNA was in her underwear. She said \"I have never said he raped me\". That changed Chessy to \"I was raped, I was violated\". White Female Privilege allowed her a platform to lie.</td>\n",
       "      <td>sexual_violence</td>\n",
       "    </tr>\n",
       "    <tr>\n",
       "      <th>5</th>\n",
       "      <td>ID_0052TYKI</td>\n",
       "      <td>Yes men rape women. But women also rape men, yet that’s never talked about. Why? Because who would believe that a women raped a man. Yet if a women LIED and said “he raped me” she is immediately believed and it’s guilty until you can prove something that never happen.</td>\n",
       "      <td>sexual_violence</td>\n",
       "    </tr>\n",
       "    <tr>\n",
       "      <th>6</th>\n",
       "      <td>ID_0058QG76</td>\n",
       "      <td>My Husband Beats Me Frequently, Wife Tells Court |</td>\n",
       "      <td>Physical_violence</td>\n",
       "    </tr>\n",
       "    <tr>\n",
       "      <th>7</th>\n",
       "      <td>ID_005VM1DJ</td>\n",
       "      <td>Pretty sure he raped a 16yr old girl with 2 friends then buried her alive. He admitted to it. Found God. But finding God won’t bring that girl back. I have a hard time finding sympathy for people that commit such atrocities. If it were up to me he would’ve been executed years ago</td>\n",
       "      <td>sexual_violence</td>\n",
       "    </tr>\n",
       "    <tr>\n",
       "      <th>8</th>\n",
       "      <td>ID_0060BW8R</td>\n",
       "      <td>TW sorry to hear that  and yeah he recently threatened to file a restraining order against me for warning his fans no idea if he is being serious or trying to stop me from speaking up. While I have never been assaulted or raped by him I know people who have and callmekarizma has</td>\n",
       "      <td>sexual_violence</td>\n",
       "    </tr>\n",
       "    <tr>\n",
       "      <th>9</th>\n",
       "      <td>ID_007FAIEI</td>\n",
       "      <td>\"I understand that... My father was abusive as well... He raped my mother and harmed her, one night he killed her right in front of me so I killed him... I even remember when he made his hounds mual me leaving me with scars. I don't regret it.\"</td>\n",
       "      <td>sexual_violence</td>\n",
       "    </tr>\n",
       "  </tbody>\n",
       "</table></div>"
      ],
      "text/plain": [
       "      Tweet_ID                                              tweet  \\\n",
       "0  ID_0022DWKP  Had a dream i got raped last night. By a guy i...   \n",
       "1  ID_00395QYM  he thought the word raped means sex and told m...   \n",
       "2  ID_003EOSSF  She NOT TALKING TO ME I WAS RAPED BY 2 MEN 1 M...   \n",
       "3  ID_004BBHOD  I was sexually abused for 3 years at age 4 to ...   \n",
       "4  ID_004F7516  Chessy Prout can do better by telling the trut...   \n",
       "5  ID_0052TYKI  Yes men rape women. But women also rape men, y...   \n",
       "6  ID_0058QG76  My Husband Beats Me Frequently, Wife Tells Cou...   \n",
       "7  ID_005VM1DJ  Pretty sure he raped a 16yr old girl with 2 fr...   \n",
       "8  ID_0060BW8R  TW sorry to hear that  and yeah he recently th...   \n",
       "9  ID_007FAIEI  \"I understand that... My father was abusive as...   \n",
       "\n",
       "                type  \n",
       "0    sexual_violence  \n",
       "1    sexual_violence  \n",
       "2    sexual_violence  \n",
       "3    sexual_violence  \n",
       "4    sexual_violence  \n",
       "5    sexual_violence  \n",
       "6  Physical_violence  \n",
       "7    sexual_violence  \n",
       "8    sexual_violence  \n",
       "9    sexual_violence  "
      ]
     },
     "execution_count": 4,
     "metadata": {},
     "output_type": "execute_result"
    }
   ],
   "source": [
    "# Inspect Data by shing the first 10 rows \n",
    "data.head(10)"
   ]
  },
  {
   "cell_type": "markdown",
   "id": "489957bb",
   "metadata": {},
   "source": [
    "### 3. Clean Data"
   ]
  },
  {
   "cell_type": "markdown",
   "id": "0af4acd1",
   "metadata": {},
   "source": [
    "When dealing with numerical data, data cleaning often involves removing null values and duplicate data, dealing with outliers, etc. With text data, there are some common data cleaning techniques, which are also known as text pre-processing techniques.\n",
    "\n",
    "With text data, this cleaning process can go on forever. There's always an exception to every cleaning step. So, we're going to follow the MVP (minimum viable product) approach - start simple and iterate. Here are a bunch of things you can do to clean your data. We're going to execute just the common cleaning steps here and the rest can be done at a later point to improve our results.\n",
    "\n",
    "Common data cleaning steps on all text:\n",
    "\n",
    "- Make text all lower case\n",
    "- Remove punctuation\n",
    "- Remove numerical values\n",
    "- Remove common non-sensical text (/n)\n",
    "- Tokenize text\n",
    "- Remove stop words\n",
    "\n",
    "More data cleaning steps after tokenization:\n",
    "- Stemming / lemmatization\n"
   ]
  },
  {
   "cell_type": "code",
   "execution_count": 5,
   "id": "bfeff674",
   "metadata": {
    "ExecuteTime": {
     "end_time": "2022-08-25T09:07:45.305910Z",
     "start_time": "2022-08-25T09:07:45.299365Z"
    }
   },
   "outputs": [],
   "source": [
    "#remove id feature \n",
    "\n",
    "data = data.drop('Tweet_ID', axis=1)\n"
   ]
  },
  {
   "cell_type": "code",
   "execution_count": 6,
   "id": "9231dbee",
   "metadata": {
    "ExecuteTime": {
     "end_time": "2022-08-25T09:07:45.527535Z",
     "start_time": "2022-08-25T09:07:45.519722Z"
    }
   },
   "outputs": [],
   "source": [
    "# select english stopwords\n",
    "stop_words = stopwords.words('english')\n",
    "\n",
    "# function to clean the text dataset \n",
    "def text_cleaning(text):\n",
    "    # Clean the text, with the option to remove stop_words\n",
    " \n",
    "    # Clean the text\n",
    "    text = re.sub(r\"[^A-Za-z0-9]\", \" \", text) #remove non-alphanumeric\n",
    "    text = re.sub(r\"http\\S+\", \" link \", text) # replace link with a word \"link\"\n",
    "    text = re.sub(r\"[0-9]\", \"\", text)  # remove numbers\n",
    "    text = text.lower() # transform text into lower cases\n",
    " \n",
    "    # Remove punctuation from text (e.g !, ? :,.< / @ )\n",
    "    text = \"\".join([c for c in text if c not in punctuation])\n",
    " \n",
    "    # remove stop words (such as “the”, “a”, “an”, “in”)\n",
    "   \n",
    "    text = text.split()\n",
    "    text = [w for w in text if not w in stop_words]\n",
    "    text = \" \".join(text)\n",
    " \n",
    "    # Return a list of words\n",
    "    return text"
   ]
  },
  {
   "cell_type": "code",
   "execution_count": 7,
   "id": "717bb5b6",
   "metadata": {
    "ExecuteTime": {
     "end_time": "2022-08-25T09:07:45.767934Z",
     "start_time": "2022-08-25T09:07:45.762671Z"
    }
   },
   "outputs": [
    {
     "name": "stdout",
     "output_type": "stream",
     "text": [
      "['i', 'me', 'my', 'myself', 'we', 'our', 'ours', 'ourselves', 'you', \"you're\", \"you've\", \"you'll\", \"you'd\", 'your', 'yours', 'yourself', 'yourselves', 'he', 'him', 'his', 'himself', 'she', \"she's\", 'her', 'hers', 'herself', 'it', \"it's\", 'its', 'itself', 'they', 'them', 'their', 'theirs', 'themselves', 'what', 'which', 'who', 'whom', 'this', 'that', \"that'll\", 'these', 'those', 'am', 'is', 'are', 'was', 'were', 'be', 'been', 'being', 'have', 'has', 'had', 'having', 'do', 'does', 'did', 'doing', 'a', 'an', 'the', 'and', 'but', 'if', 'or', 'because', 'as', 'until', 'while', 'of', 'at', 'by', 'for', 'with', 'about', 'against', 'between', 'into', 'through', 'during', 'before', 'after', 'above', 'below', 'to', 'from', 'up', 'down', 'in', 'out', 'on', 'off', 'over', 'under', 'again', 'further', 'then', 'once', 'here', 'there', 'when', 'where', 'why', 'how', 'all', 'any', 'both', 'each', 'few', 'more', 'most', 'other', 'some', 'such', 'no', 'nor', 'not', 'only', 'own', 'same', 'so', 'than', 'too', 'very', 's', 't', 'can', 'will', 'just', 'don', \"don't\", 'should', \"should've\", 'now', 'd', 'll', 'm', 'o', 're', 've', 'y', 'ain', 'aren', \"aren't\", 'couldn', \"couldn't\", 'didn', \"didn't\", 'doesn', \"doesn't\", 'hadn', \"hadn't\", 'hasn', \"hasn't\", 'haven', \"haven't\", 'isn', \"isn't\", 'ma', 'mightn', \"mightn't\", 'mustn', \"mustn't\", 'needn', \"needn't\", 'shan', \"shan't\", 'shouldn', \"shouldn't\", 'wasn', \"wasn't\", 'weren', \"weren't\", 'won', \"won't\", 'wouldn', \"wouldn't\"]\n"
     ]
    }
   ],
   "source": [
    "# show list of stopwords \n",
    "print(stopwords.words('english'))"
   ]
  },
  {
   "cell_type": "code",
   "execution_count": 8,
   "id": "e49803e4",
   "metadata": {
    "ExecuteTime": {
     "end_time": "2022-08-25T09:07:49.484314Z",
     "start_time": "2022-08-25T09:07:45.964381Z"
    }
   },
   "outputs": [],
   "source": [
    "#clean data \n",
    "\n",
    "data['cleaned_tweets'] = data.tweet.apply(text_cleaning)"
   ]
  },
  {
   "cell_type": "code",
   "execution_count": 9,
   "id": "6a5c32a4",
   "metadata": {
    "ExecuteTime": {
     "end_time": "2022-08-25T09:07:49.497434Z",
     "start_time": "2022-08-25T09:07:49.485669Z"
    }
   },
   "outputs": [
    {
     "data": {
      "text/html": [
       "<div><div id=6067b2c9-5ad9-4014-b592-495893e23a8f style=\"display:none; background-color:#9D6CFF; color:white; width:200px; height:30px; padding-left:5px; border-radius:4px; flex-direction:row; justify-content:space-around; align-items:center;\" onmouseover=\"this.style.backgroundColor='#BA9BF8'\" onmouseout=\"this.style.backgroundColor='#9D6CFF'\" onclick=\"window.commands?.execute('create-mitosheet-from-dataframe-output');\">See Full Dataframe in Mito</div> <script> if (window.commands.hasCommand('create-mitosheet-from-dataframe-output')) document.getElementById('6067b2c9-5ad9-4014-b592-495893e23a8f').style.display = 'flex' </script> <table border=\"1\" class=\"dataframe\">\n",
       "  <thead>\n",
       "    <tr style=\"text-align: right;\">\n",
       "      <th></th>\n",
       "      <th>tweet</th>\n",
       "      <th>cleaned_tweets</th>\n",
       "      <th>type</th>\n",
       "    </tr>\n",
       "  </thead>\n",
       "  <tbody>\n",
       "    <tr>\n",
       "      <th>0</th>\n",
       "      <td>Had a dream i got raped last night. By a guy i work with. Actually a guy i smoked with once at my house but he was doing too much tryna be sexual and it wasn’t even like that for me just wanted to smoke.</td>\n",
       "      <td>dream got raped last night guy work actually guy smoked house much tryna sexual even like wanted smoke</td>\n",
       "      <td>sexual_violence</td>\n",
       "    </tr>\n",
       "    <tr>\n",
       "      <th>1</th>\n",
       "      <td>he thought the word raped means sex and told me “i saw our dogs raping eachother” and i was like wtf</td>\n",
       "      <td>thought word raped means sex told saw dogs raping eachother like wtf</td>\n",
       "      <td>sexual_violence</td>\n",
       "    </tr>\n",
       "    <tr>\n",
       "      <th>2</th>\n",
       "      <td>She NOT TALKING TO ME I WAS RAPED BY 2 MEN 1 MOLESTED HE IN JAIL ON NOTHER CHARGE SO SHE NOT SAYING WORD</td>\n",
       "      <td>talking raped men molested jail nother charge saying word</td>\n",
       "      <td>sexual_violence</td>\n",
       "    </tr>\n",
       "    <tr>\n",
       "      <th>3</th>\n",
       "      <td>I was sexually abused for 3 years at age 4 to 7. No one believed me.  I was raped by my bro’s friend in a classroom at 13. He was 18. I told no one cause “Who would believe me?”.  My bro found out when I was 19. His friend bragged to the wrong person.  It is hard to come forward.</td>\n",
       "      <td>sexually abused years age one believed raped bro friend classroom told one cause would believe bro found friend bragged wrong person hard come forward</td>\n",
       "      <td>sexual_violence</td>\n",
       "    </tr>\n",
       "    <tr>\n",
       "      <th>4</th>\n",
       "      <td>Chessy Prout can do better by telling the truth. By not selling Owen Labrie out to hide whoever else's DNA was in her underwear. She said \"I have never said he raped me\". That changed Chessy to \"I was raped, I was violated\". White Female Privilege allowed her a platform to lie.</td>\n",
       "      <td>chessy prout better telling truth selling owen labrie hide whoever else dna underwear said never said raped changed chessy raped violated white female privilege allowed platform lie</td>\n",
       "      <td>sexual_violence</td>\n",
       "    </tr>\n",
       "  </tbody>\n",
       "</table></div>"
      ],
      "text/plain": [
       "                                               tweet  \\\n",
       "0  Had a dream i got raped last night. By a guy i...   \n",
       "1  he thought the word raped means sex and told m...   \n",
       "2  She NOT TALKING TO ME I WAS RAPED BY 2 MEN 1 M...   \n",
       "3  I was sexually abused for 3 years at age 4 to ...   \n",
       "4  Chessy Prout can do better by telling the trut...   \n",
       "\n",
       "                                      cleaned_tweets             type  \n",
       "0  dream got raped last night guy work actually g...  sexual_violence  \n",
       "1  thought word raped means sex told saw dogs rap...  sexual_violence  \n",
       "2  talking raped men molested jail nother charge ...  sexual_violence  \n",
       "3  sexually abused years age one believed raped b...  sexual_violence  \n",
       "4  chessy prout better telling truth selling owen...  sexual_violence  "
      ]
     },
     "execution_count": 9,
     "metadata": {},
     "output_type": "execute_result"
    }
   ],
   "source": [
    "# show first 5 rows \n",
    "data = data[['tweet','cleaned_tweets','type']]\n",
    "\n",
    "data.head()"
   ]
  },
  {
   "cell_type": "markdown",
   "id": "d641286f",
   "metadata": {},
   "source": [
    "#### Lemmatization with NLTK\n",
    "    \n",
    "Lemmatization is the process of converting a word to its base form.\n",
    "\n",
    "The difference between stemming and lemmatization is, lemmatization considers the context and converts the word to its meaningful base form, whereas stemming just removes the last few characters, often leading to incorrect meanings and spelling errors.\n",
    "\n",
    "For example, lemmatization would correctly identify the base form of ‘caring’ to ‘care’, whereas, stemming would cutoff the ‘ing’ part and convert it to car. ‘Caring’ -> Lemmatization -> ‘Care’ ‘Caring’ -> Stemming -> ‘Car’"
   ]
  },
  {
   "cell_type": "code",
   "execution_count": 10,
   "id": "00c3f03e",
   "metadata": {
    "ExecuteTime": {
     "end_time": "2022-08-25T09:07:50.526570Z",
     "start_time": "2022-08-25T09:07:49.499419Z"
    }
   },
   "outputs": [
    {
     "name": "stdout",
     "output_type": "stream",
     "text": [
      "rocks : rock\n",
      "corpora : corpus\n",
      "babies : baby\n"
     ]
    }
   ],
   "source": [
    "# example \n",
    "lemmatizer = WordNetLemmatizer()\n",
    "  \n",
    "print(\"rocks :\", lemmatizer.lemmatize(\"rocks\"))\n",
    "print(\"corpora :\", lemmatizer.lemmatize(\"corpora\"))\n",
    "print(\"babies :\", lemmatizer.lemmatize(\"babies\"))"
   ]
  },
  {
   "cell_type": "code",
   "execution_count": 11,
   "id": "c003ae50",
   "metadata": {
    "ExecuteTime": {
     "end_time": "2022-08-25T09:07:50.530421Z",
     "start_time": "2022-08-25T09:07:50.528258Z"
    }
   },
   "outputs": [],
   "source": [
    " #shorten words to their stems\n",
    "def lemmatize_words(text):\n",
    "    \n",
    "    text = text.split()\n",
    "    \n",
    "    lemmatizer = WordNetLemmatizer()\n",
    "    lemmatized_words = [lemmatizer.lemmatize(word) for word in text]\n",
    "    \n",
    "    text = \" \".join(lemmatized_words)\n",
    "\n",
    "    # Return a list of words\n",
    "    return text"
   ]
  },
  {
   "cell_type": "code",
   "execution_count": 12,
   "id": "9f1492b3",
   "metadata": {
    "ExecuteTime": {
     "end_time": "2022-08-25T09:07:52.672721Z",
     "start_time": "2022-08-25T09:07:50.531631Z"
    }
   },
   "outputs": [],
   "source": [
    "# lemmatize the tweets\n",
    "\n",
    "data['cleaned_tweets'] = data.cleaned_tweets.apply(lemmatize_words)"
   ]
  },
  {
   "cell_type": "code",
   "execution_count": 13,
   "id": "3994fc1e",
   "metadata": {
    "ExecuteTime": {
     "end_time": "2022-08-25T09:07:52.677628Z",
     "start_time": "2022-08-25T09:07:52.673906Z"
    }
   },
   "outputs": [
    {
     "data": {
      "text/html": [
       "<div><div id=04f81f17-5b12-4b0f-a4ce-114701f797a0 style=\"display:none; background-color:#9D6CFF; color:white; width:200px; height:30px; padding-left:5px; border-radius:4px; flex-direction:row; justify-content:space-around; align-items:center;\" onmouseover=\"this.style.backgroundColor='#BA9BF8'\" onmouseout=\"this.style.backgroundColor='#9D6CFF'\" onclick=\"window.commands?.execute('create-mitosheet-from-dataframe-output');\">See Full Dataframe in Mito</div> <script> if (window.commands.hasCommand('create-mitosheet-from-dataframe-output')) document.getElementById('04f81f17-5b12-4b0f-a4ce-114701f797a0').style.display = 'flex' </script> <table border=\"1\" class=\"dataframe\">\n",
       "  <thead>\n",
       "    <tr style=\"text-align: right;\">\n",
       "      <th></th>\n",
       "      <th>tweet</th>\n",
       "      <th>cleaned_tweets</th>\n",
       "      <th>type</th>\n",
       "    </tr>\n",
       "  </thead>\n",
       "  <tbody>\n",
       "    <tr>\n",
       "      <th>0</th>\n",
       "      <td>Had a dream i got raped last night. By a guy i work with. Actually a guy i smoked with once at my house but he was doing too much tryna be sexual and it wasn’t even like that for me just wanted to smoke.</td>\n",
       "      <td>dream got raped last night guy work actually guy smoked house much tryna sexual even like wanted smoke</td>\n",
       "      <td>sexual_violence</td>\n",
       "    </tr>\n",
       "    <tr>\n",
       "      <th>1</th>\n",
       "      <td>he thought the word raped means sex and told me “i saw our dogs raping eachother” and i was like wtf</td>\n",
       "      <td>thought word raped mean sex told saw dog raping eachother like wtf</td>\n",
       "      <td>sexual_violence</td>\n",
       "    </tr>\n",
       "    <tr>\n",
       "      <th>2</th>\n",
       "      <td>She NOT TALKING TO ME I WAS RAPED BY 2 MEN 1 MOLESTED HE IN JAIL ON NOTHER CHARGE SO SHE NOT SAYING WORD</td>\n",
       "      <td>talking raped men molested jail nother charge saying word</td>\n",
       "      <td>sexual_violence</td>\n",
       "    </tr>\n",
       "    <tr>\n",
       "      <th>3</th>\n",
       "      <td>I was sexually abused for 3 years at age 4 to 7. No one believed me.  I was raped by my bro’s friend in a classroom at 13. He was 18. I told no one cause “Who would believe me?”.  My bro found out when I was 19. His friend bragged to the wrong person.  It is hard to come forward.</td>\n",
       "      <td>sexually abused year age one believed raped bro friend classroom told one cause would believe bro found friend bragged wrong person hard come forward</td>\n",
       "      <td>sexual_violence</td>\n",
       "    </tr>\n",
       "    <tr>\n",
       "      <th>4</th>\n",
       "      <td>Chessy Prout can do better by telling the truth. By not selling Owen Labrie out to hide whoever else's DNA was in her underwear. She said \"I have never said he raped me\". That changed Chessy to \"I was raped, I was violated\". White Female Privilege allowed her a platform to lie.</td>\n",
       "      <td>chessy prout better telling truth selling owen labrie hide whoever else dna underwear said never said raped changed chessy raped violated white female privilege allowed platform lie</td>\n",
       "      <td>sexual_violence</td>\n",
       "    </tr>\n",
       "  </tbody>\n",
       "</table></div>"
      ],
      "text/plain": [
       "                                               tweet  \\\n",
       "0  Had a dream i got raped last night. By a guy i...   \n",
       "1  he thought the word raped means sex and told m...   \n",
       "2  She NOT TALKING TO ME I WAS RAPED BY 2 MEN 1 M...   \n",
       "3  I was sexually abused for 3 years at age 4 to ...   \n",
       "4  Chessy Prout can do better by telling the trut...   \n",
       "\n",
       "                                      cleaned_tweets             type  \n",
       "0  dream got raped last night guy work actually g...  sexual_violence  \n",
       "1  thought word raped mean sex told saw dog rapin...  sexual_violence  \n",
       "2  talking raped men molested jail nother charge ...  sexual_violence  \n",
       "3  sexually abused year age one believed raped br...  sexual_violence  \n",
       "4  chessy prout better telling truth selling owen...  sexual_violence  "
      ]
     },
     "execution_count": 13,
     "metadata": {},
     "output_type": "execute_result"
    }
   ],
   "source": [
    "#check first five rows \n",
    "\n",
    "data.head()"
   ]
  },
  {
   "cell_type": "markdown",
   "id": "7f0dd2b1",
   "metadata": {},
   "source": [
    "### 4. Exploratory Data Analysis"
   ]
  },
  {
   "cell_type": "code",
   "execution_count": 14,
   "id": "bdc4d4d6",
   "metadata": {
    "ExecuteTime": {
     "end_time": "2022-08-25T09:07:52.682743Z",
     "start_time": "2022-08-25T09:07:52.678760Z"
    }
   },
   "outputs": [
    {
     "data": {
      "text/plain": [
       "Harmful_Traditional_practice      188\n",
       "economic_violence                 217\n",
       "emotional_violence                651\n",
       "Physical_violence                5946\n",
       "sexual_violence                 32648\n",
       "Name: type, dtype: int64"
      ]
     },
     "execution_count": 14,
     "metadata": {},
     "output_type": "execute_result"
    }
   ],
   "source": [
    "#check the target column\n",
    "data['type'].value_counts(ascending=True) "
   ]
  },
  {
   "cell_type": "code",
   "execution_count": 15,
   "id": "09c8af02",
   "metadata": {
    "ExecuteTime": {
     "end_time": "2022-08-25T09:07:52.826549Z",
     "start_time": "2022-08-25T09:07:52.685739Z"
    }
   },
   "outputs": [
    {
     "data": {
      "text/plain": [
       "<AxesSubplot:xlabel='type', ylabel='count'>"
      ]
     },
     "execution_count": 15,
     "metadata": {},
     "output_type": "execute_result"
    },
    {
     "data": {
      "image/png": "[encoded data removed]",
      "text/plain": [
       "<Figure size 842.4x595.44 with 1 Axes>"
      ]
     },
     "metadata": {},
     "output_type": "display_data"
    }
   ],
   "source": [
    "# visualize the target column \n",
    "\n",
    "sns.set(rc={'figure.figsize':(11.7,8.27)})\n",
    "\n",
    "sns.countplot(data[\"type\"])"
   ]
  },
  {
   "cell_type": "markdown",
   "id": "b94b1b1c",
   "metadata": {},
   "source": [
    "The target variable is imbalanced"
   ]
  },
  {
   "cell_type": "markdown",
   "id": "0eedbf59",
   "metadata": {},
   "source": [
    "#### Number of Words\n"
   ]
  },
  {
   "cell_type": "code",
   "execution_count": 16,
   "id": "c399ffc3",
   "metadata": {
    "ExecuteTime": {
     "end_time": "2022-08-25T09:07:52.833774Z",
     "start_time": "2022-08-25T09:07:52.829387Z"
    }
   },
   "outputs": [],
   "source": [
    "# function to print top 20 common words \n",
    "def plot_20_most_common_words(count_data, count_vectorizer,title):\n",
    "    words = count_vectorizer.get_feature_names()\n",
    "    total_counts = np.zeros(len(words))\n",
    "    for t in count_data:\n",
    "        total_counts+=t.toarray()[0]\n",
    "    \n",
    "    count_dict = (zip(words, total_counts))\n",
    "    count_dict = sorted(count_dict, key=lambda x:x[1], reverse=True)[0:20]\n",
    "    words = [w[0] for w in count_dict]\n",
    "    counts = [w[1] for w in count_dict]\n",
    "    x_pos = np.arange(len(words)) \n",
    "    plt.figure(figsize=(16, 10))\n",
    "    plt.bar(x_pos, counts,align='center')\n",
    "    plt.xticks(x_pos, words, rotation=90) \n",
    "    plt.xlabel('words')\n",
    "    plt.ylabel('counts')\n",
    "    plt.title(title)\n",
    "    plt.show()\n",
    "\n",
    "\n"
   ]
  },
  {
   "cell_type": "code",
   "execution_count": 17,
   "id": "033bc574",
   "metadata": {
    "ExecuteTime": {
     "end_time": "2022-08-25T09:07:52.837878Z",
     "start_time": "2022-08-25T09:07:52.835685Z"
    }
   },
   "outputs": [],
   "source": [
    "# Initialise the count vectorizer \n",
    "count_vectorizer = CountVectorizer()"
   ]
  },
  {
   "cell_type": "code",
   "execution_count": 18,
   "id": "2facac17",
   "metadata": {
    "ExecuteTime": {
     "end_time": "2022-08-25T09:07:55.708135Z",
     "start_time": "2022-08-25T09:07:52.839722Z"
    }
   },
   "outputs": [
    {
     "data": {
      "image/png": "[encoded data removed]",
      "text/plain": [
       "<Figure size 1152x720 with 1 Axes>"
      ]
     },
     "metadata": {},
     "output_type": "display_data"
    }
   ],
   "source": [
    "# Fit and transform the processed tweets for swahili only\n",
    "count_data = count_vectorizer.fit_transform(data.cleaned_tweets)\n",
    "\n",
    "# Visualise the 20 most common words\n",
    "plot_20_most_common_words(\n",
    "    count_data, count_vectorizer, title=\"20 most common word in GBV Tweets\"\n",
    ")"
   ]
  },
  {
   "cell_type": "markdown",
   "id": "63df4b56",
   "metadata": {},
   "source": [
    "### 5. Feature Engineering "
   ]
  },
  {
   "cell_type": "markdown",
   "id": "0854772a",
   "metadata": {},
   "source": [
    "##### (a) Lable Encoding our target variable \n",
    "\n",
    "Convert the target values from string into numerical values"
   ]
  },
  {
   "cell_type": "code",
   "execution_count": 19,
   "id": "dd7b6d33",
   "metadata": {
    "ExecuteTime": {
     "end_time": "2022-08-25T09:07:55.719970Z",
     "start_time": "2022-08-25T09:07:55.709404Z"
    }
   },
   "outputs": [
    {
     "data": {
      "text/html": [
       "<div><div id=ec3963eb-b3ed-41ee-81a6-d26fcb5124d8 style=\"display:none; background-color:#9D6CFF; color:white; width:200px; height:30px; padding-left:5px; border-radius:4px; flex-direction:row; justify-content:space-around; align-items:center;\" onmouseover=\"this.style.backgroundColor='#BA9BF8'\" onmouseout=\"this.style.backgroundColor='#9D6CFF'\" onclick=\"window.commands?.execute('create-mitosheet-from-dataframe-output');\">See Full Dataframe in Mito</div> <script> if (window.commands.hasCommand('create-mitosheet-from-dataframe-output')) document.getElementById('ec3963eb-b3ed-41ee-81a6-d26fcb5124d8').style.display = 'flex' </script> <table border=\"1\" class=\"dataframe\">\n",
       "  <thead>\n",
       "    <tr style=\"text-align: right;\">\n",
       "      <th></th>\n",
       "      <th>tweet</th>\n",
       "      <th>cleaned_tweets</th>\n",
       "      <th>type</th>\n",
       "    </tr>\n",
       "  </thead>\n",
       "  <tbody>\n",
       "    <tr>\n",
       "      <th>0</th>\n",
       "      <td>Had a dream i got raped last night. By a guy i work with. Actually a guy i smoked with once at my house but he was doing too much tryna be sexual and it wasn’t even like that for me just wanted to smoke.</td>\n",
       "      <td>dream got raped last night guy work actually guy smoked house much tryna sexual even like wanted smoke</td>\n",
       "      <td>4</td>\n",
       "    </tr>\n",
       "    <tr>\n",
       "      <th>1</th>\n",
       "      <td>he thought the word raped means sex and told me “i saw our dogs raping eachother” and i was like wtf</td>\n",
       "      <td>thought word raped mean sex told saw dog raping eachother like wtf</td>\n",
       "      <td>4</td>\n",
       "    </tr>\n",
       "    <tr>\n",
       "      <th>2</th>\n",
       "      <td>She NOT TALKING TO ME I WAS RAPED BY 2 MEN 1 MOLESTED HE IN JAIL ON NOTHER CHARGE SO SHE NOT SAYING WORD</td>\n",
       "      <td>talking raped men molested jail nother charge saying word</td>\n",
       "      <td>4</td>\n",
       "    </tr>\n",
       "    <tr>\n",
       "      <th>3</th>\n",
       "      <td>I was sexually abused for 3 years at age 4 to 7. No one believed me.  I was raped by my bro’s friend in a classroom at 13. He was 18. I told no one cause “Who would believe me?”.  My bro found out when I was 19. His friend bragged to the wrong person.  It is hard to come forward.</td>\n",
       "      <td>sexually abused year age one believed raped bro friend classroom told one cause would believe bro found friend bragged wrong person hard come forward</td>\n",
       "      <td>4</td>\n",
       "    </tr>\n",
       "    <tr>\n",
       "      <th>4</th>\n",
       "      <td>Chessy Prout can do better by telling the truth. By not selling Owen Labrie out to hide whoever else's DNA was in her underwear. She said \"I have never said he raped me\". That changed Chessy to \"I was raped, I was violated\". White Female Privilege allowed her a platform to lie.</td>\n",
       "      <td>chessy prout better telling truth selling owen labrie hide whoever else dna underwear said never said raped changed chessy raped violated white female privilege allowed platform lie</td>\n",
       "      <td>4</td>\n",
       "    </tr>\n",
       "  </tbody>\n",
       "</table></div>"
      ],
      "text/plain": [
       "                                               tweet  \\\n",
       "0  Had a dream i got raped last night. By a guy i...   \n",
       "1  he thought the word raped means sex and told m...   \n",
       "2  She NOT TALKING TO ME I WAS RAPED BY 2 MEN 1 M...   \n",
       "3  I was sexually abused for 3 years at age 4 to ...   \n",
       "4  Chessy Prout can do better by telling the trut...   \n",
       "\n",
       "                                      cleaned_tweets  type  \n",
       "0  dream got raped last night guy work actually g...     4  \n",
       "1  thought word raped mean sex told saw dog rapin...     4  \n",
       "2  talking raped men molested jail nother charge ...     4  \n",
       "3  sexually abused year age one believed raped br...     4  \n",
       "4  chessy prout better telling truth selling owen...     4  "
      ]
     },
     "execution_count": 19,
     "metadata": {},
     "output_type": "execute_result"
    }
   ],
   "source": [
    "#import LableEncoder module \n",
    "from sklearn.preprocessing import LabelEncoder\n",
    "\n",
    "le = LabelEncoder()\n",
    "\n",
    "data['type'] = le.fit_transform(data['type'])\n",
    "\n",
    "\n",
    "data.head() "
   ]
  },
  {
   "cell_type": "code",
   "execution_count": 20,
   "id": "f0da108b",
   "metadata": {
    "ExecuteTime": {
     "end_time": "2022-08-25T09:07:55.725280Z",
     "start_time": "2022-08-25T09:07:55.722180Z"
    }
   },
   "outputs": [],
   "source": [
    "#split data into feature and target column \n",
    "\n",
    "X = data[\"cleaned_tweets\"]\n",
    "y = data[\"type\"]"
   ]
  },
  {
   "cell_type": "markdown",
   "id": "db2cf9c7",
   "metadata": {},
   "source": [
    "####  (b) Text Vectorization using TFIDFVectorizer\n",
    "\n",
    "TF-IDF is an abbreviation for Term Frequency Inverse Document Frequency. This is very common algorithm to transform text into a meaningful representation of numbers which is used to fit machine algorithm for prediction. \n",
    "\n",
    "\n",
    "![](https://miro.medium.com/max/1400/1*qQgnyPLDIkUmeZKN2_ZWbQ.png)\n",
    "\n",
    "Terminology :\n",
    "- t — term (word)\n",
    "- d — document (set of words)\n",
    "\n",
    "\n",
    "Read this article to understand more:\n",
    "\n",
    "- [https://www.geeksforgeeks.org/understanding-tf-idf-term-frequency-inverse-document-frequency/](https://www.geeksforgeeks.org/understanding-tf-idf-term-frequency-inverse-document-frequency/)\n",
    "- [https://www.analyticsvidhya.com/blog/2021/11/how-sklearns-tfidfvectorizer-calculates-tf-idf-values/](https://www.analyticsvidhya.com/blog/2021/11/how-sklearns-tfidfvectorizer-calculates-tf-idf-values/)\n",
    "\n",
    "\n"
   ]
  },
  {
   "cell_type": "code",
   "execution_count": 21,
   "id": "845c465b",
   "metadata": {
    "ExecuteTime": {
     "end_time": "2022-08-25T09:07:56.345175Z",
     "start_time": "2022-08-25T09:07:55.728345Z"
    },
    "scrolled": true
   },
   "outputs": [],
   "source": [
    "#transform tweets into \n",
    "tfidf_vectorizer = TfidfVectorizer()\n",
    "\n",
    "X_vectorized = tfidf_vectorizer.fit_transform(X)\n"
   ]
  },
  {
   "cell_type": "code",
   "execution_count": 22,
   "id": "c06702db",
   "metadata": {
    "ExecuteTime": {
     "end_time": "2022-08-25T09:07:56.362029Z",
     "start_time": "2022-08-25T09:07:56.346356Z"
    }
   },
   "outputs": [
    {
     "name": "stdout",
     "output_type": "stream",
     "text": [
      "(39650, 32676)\n",
      "(31720, 32676)\n",
      "(7930, 32676)\n"
     ]
    }
   ],
   "source": [
    "# Splitting the dataset to training and testing sets\n",
    "X_train, X_test, y_train, y_test = train_test_split(X_vectorized,\n",
    "                                                    y,\n",
    "                                                    test_size=0.20,\n",
    "                                                    stratify=y,\n",
    "                                                    random_state=42)\n",
    "\n",
    "print(X_vectorized.shape)\n",
    "print(X_train.shape)\n",
    "print(X_test.shape)"
   ]
  },
  {
   "cell_type": "markdown",
   "id": "3aca6440",
   "metadata": {},
   "source": [
    "#### (c)Find balance on the Target column "
   ]
  },
  {
   "cell_type": "code",
   "execution_count": 23,
   "id": "080f56b9",
   "metadata": {
    "ExecuteTime": {
     "end_time": "2022-08-25T09:07:57.353583Z",
     "start_time": "2022-08-25T09:07:56.363138Z"
    }
   },
   "outputs": [
    {
     "name": "stdout",
     "output_type": "stream",
     "text": [
      "Resampled dataset shape Counter({4: 26118, 1: 26118, 0: 26118, 3: 26118, 2: 26118})\n"
     ]
    }
   ],
   "source": [
    "# perform oversampling on the train set only (X_train,y_train)\n",
    "sm = SMOTE(n_jobs=-1)\n",
    "X_res, y_res = sm.fit_resample(X_train, y_train)\n",
    "print('Resampled dataset shape %s' % Counter(y_res))"
   ]
  },
  {
   "cell_type": "markdown",
   "id": "46383345",
   "metadata": {},
   "source": [
    "### 6. Train Multiple Machine Learning Models "
   ]
  },
  {
   "cell_type": "code",
   "execution_count": 24,
   "id": "c44ba802",
   "metadata": {
    "ExecuteTime": {
     "end_time": "2022-08-25T09:08:08.463496Z",
     "start_time": "2022-08-25T09:07:59.173427Z"
    }
   },
   "outputs": [
    {
     "name": "stdout",
     "output_type": "stream",
     "text": [
      "LogisticRegression(n_jobs=-1): f1_score is 0.9963215035853994\n"
     ]
    },
    {
     "data": {
      "image/png": "[encoded data removed]",
      "text/plain": [
       "<Figure size 842.4x595.44 with 2 Axes>"
      ]
     },
     "metadata": {},
     "output_type": "display_data"
    }
   ],
   "source": [
    "#1. Train Logistic Regression\n",
    "lg_model = LogisticRegression(n_jobs=-1)\n",
    "\n",
    "#train model\n",
    "lg_model.fit(X_res, y_res)\n",
    "\n",
    "#test model on test set\n",
    "lg_preds = lg_model.predict(X_test)\n",
    "\n",
    "#measure model accuracy\n",
    "score = f1_score(lg_preds, y_test,average='weighted')\n",
    "print(\"{}: f1_score is {}\".format(lg_model, score))\n",
    "\n",
    "#Compute confusion matrix to evaluate the accuray of a classification\n",
    "lg_confusion_table = confusion_matrix(lg_preds, y_test)\n",
    "\n",
    "#Confusion matrix visualization\n",
    "cm_display = ConfusionMatrixDisplay(confusion_matrix=lg_confusion_table,\n",
    "                                    display_labels=[0, 1, 2, 3, 4])\n",
    "\n",
    "#create the plot\n",
    "cm_display.plot()\n",
    "\n",
    "#display the plot\n",
    "plt.show()"
   ]
  },
  {
   "cell_type": "markdown",
   "id": "d57d5f6e",
   "metadata": {},
   "source": [
    " **Note:**\n",
    " \n",
    " - 0 - 'Harmful_Traditional_practice', \n",
    " - 1 - 'Physical_violence', \n",
    " - 2 - 'economic_violence', \n",
    " - 3 - 'emotional_violence', \n",
    " - 4 - 'sexual_violence'   "
   ]
  },
  {
   "cell_type": "code",
   "execution_count": 25,
   "id": "54db8f38",
   "metadata": {
    "ExecuteTime": {
     "end_time": "2022-08-25T09:08:38.776085Z",
     "start_time": "2022-08-25T09:08:13.120966Z"
    }
   },
   "outputs": [
    {
     "name": "stdout",
     "output_type": "stream",
     "text": [
      "RandomForestClassifier(n_jobs=-1): f1_score is 0.9985485159588914\n"
     ]
    },
    {
     "data": {
      "image/png": "[encoded data removed]",
      "text/plain": [
       "<Figure size 842.4x595.44 with 2 Axes>"
      ]
     },
     "metadata": {},
     "output_type": "display_data"
    }
   ],
   "source": [
    "#2. Train Random Forest Classifier\n",
    "rf_model = RandomForestClassifier(n_jobs=-1)\n",
    "\n",
    "#train model\n",
    "rf_model.fit(X_res, y_res)\n",
    "\n",
    "#test model on test set\n",
    "rf_preds = rf_model.predict(X_test)\n",
    "\n",
    "#measure model accuracy\n",
    "score = f1_score(rf_preds, y_test,average='weighted')\n",
    "print(\"{}: f1_score is {}\".format(rf_model, score))\n",
    "\n",
    "#Compute confusion matrix to evaluate the accuray of a classification\n",
    "rf_confusion_table = confusion_matrix(rf_preds, y_test)\n",
    "\n",
    "#Confusion matrix visualization\n",
    "cm_display = ConfusionMatrixDisplay(confusion_matrix=rf_confusion_table,\n",
    "                                    display_labels=[0, 1, 2, 3, 4])\n",
    "\n",
    "#create the plot\n",
    "cm_display.plot()\n",
    "\n",
    "#display the plot\n",
    "plt.show()"
   ]
  },
  {
   "cell_type": "markdown",
   "id": "141f9ad4",
   "metadata": {},
   "source": [
    " **Note:**\n",
    " \n",
    " - 0 - 'Harmful_Traditional_practice', \n",
    " - 1 - 'Physical_violence', \n",
    " - 2 - 'economic_violence', \n",
    " - 3 - 'emotional_violence', \n",
    " - 4 - 'sexual_violence'   "
   ]
  },
  {
   "cell_type": "code",
   "execution_count": 26,
   "id": "c8540316",
   "metadata": {
    "ExecuteTime": {
     "end_time": "2022-08-25T09:09:59.414691Z",
     "start_time": "2022-08-25T09:08:52.682970Z"
    }
   },
   "outputs": [
    {
     "name": "stdout",
     "output_type": "stream",
     "text": [
      "ExtraTreesClassifier(n_jobs=-1): f1_score is 0.9899190860522555\n"
     ]
    },
    {
     "data": {
      "image/png": "[encoded data removed]",
      "text/plain": [
       "<Figure size 842.4x595.44 with 2 Axes>"
      ]
     },
     "metadata": {},
     "output_type": "display_data"
    }
   ],
   "source": [
    "#3. Train Extra Tree Classifier\n",
    "et_model = ExtraTreesClassifier(n_jobs=-1)\n",
    "\n",
    "#train model\n",
    "et_model.fit(X_res, y_res)\n",
    "\n",
    "#test model on test set\n",
    "et_preds = et_model.predict(X_test)\n",
    "\n",
    "#measure model accuracy\n",
    "score = f1_score(et_preds, y_test,average='weighted')\n",
    "print(\"{}: f1_score is {}\".format(et_model, score))\n",
    "\n",
    "#Compute confusion matrix to evaluate the accuray of a classification\n",
    "et_confusion_table = confusion_matrix(et_preds, y_test)\n",
    "\n",
    "#Confusion matrix visualization\n",
    "cm_display = ConfusionMatrixDisplay(confusion_matrix=et_confusion_table,\n",
    "                                    display_labels=[0, 1, 2, 3, 4])\n",
    "\n",
    "#create the plot\n",
    "cm_display.plot()\n",
    "\n",
    "#display the plot\n",
    "plt.show()"
   ]
  },
  {
   "cell_type": "markdown",
   "id": "f6ee16db",
   "metadata": {},
   "source": [
    " **Note:**\n",
    " \n",
    " - 0 - 'Harmful_Traditional_practice', \n",
    " - 1 - 'Physical_violence', \n",
    " - 2 - 'economic_violence', \n",
    " - 3 - 'emotional_violence', \n",
    " - 4 - 'sexual_violence'   "
   ]
  },
  {
   "cell_type": "code",
   "execution_count": 27,
   "id": "378e1027",
   "metadata": {
    "ExecuteTime": {
     "end_time": "2022-08-25T09:11:37.911940Z",
     "start_time": "2022-08-25T09:11:06.977600Z"
    }
   },
   "outputs": [
    {
     "name": "stdout",
     "output_type": "stream",
     "text": [
      "LGBMClassifier(): f1_score is 0.9994946200120485\n"
     ]
    },
    {
     "data": {
      "image/png": "[encoded data removed]",
      "text/plain": [
       "<Figure size 842.4x595.44 with 2 Axes>"
      ]
     },
     "metadata": {},
     "output_type": "display_data"
    }
   ],
   "source": [
    "#4. Train Lightgbm Classifier\n",
    "lightgbm_model = LGBMClassifier(n_jobs=-1)\n",
    "\n",
    "#train model\n",
    "lightgbm_model.fit(X_res, y_res)\n",
    "\n",
    "#test model on test set\n",
    "lightgbm_preds = lightgbm_model.predict(X_test)\n",
    "\n",
    "#measure model accuracy\n",
    "score = f1_score(lightgbm_preds, y_test,average='weighted')\n",
    "print(\"{}: f1_score is {}\".format(lightgbm_model, score))\n",
    "\n",
    "#Compute confusion matrix to evaluate the accuray of a classification\n",
    "lightgbm_confusion_table = confusion_matrix(lightgbm_preds, y_test)\n",
    "\n",
    "#Confusion matrix visualization\n",
    "cm_display = ConfusionMatrixDisplay(confusion_matrix=lightgbm_confusion_table,\n",
    "                                    display_labels=[0, 1, 2, 3, 4])\n",
    "\n",
    "#create the plot\n",
    "cm_display.plot()\n",
    "\n",
    "#display the plot\n",
    "plt.show()"
   ]
  },
  {
   "cell_type": "markdown",
   "id": "8fe3bab9",
   "metadata": {},
   "source": [
    " **Note:**\n",
    " \n",
    " - 0 - 'Harmful_Traditional_practice', \n",
    " - 1 - 'Physical_violence', \n",
    " - 2 - 'economic_violence', \n",
    " - 3 - 'emotional_violence', \n",
    " - 4 - 'sexual_violence'   "
   ]
  },
  {
   "cell_type": "markdown",
   "id": "0adbafac",
   "metadata": {},
   "source": [
    "#### Question: What is the Best model with good performance??"
   ]
  },
  {
   "cell_type": "code",
   "execution_count": null,
   "id": "fdddbb6c",
   "metadata": {},
   "outputs": [],
   "source": []
  }
 ],
 "metadata": {
  "hide_input": false,
  "kernelspec": {
   "display_name": "Python 3",
   "language": "python",
   "name": "python3"
  },
  "language_info": {
   "codemirror_mode": {
    "name": "ipython",
    "version": 3
   },
   "file_extension": ".py",
   "mimetype": "text/x-python",
   "name": "python",
   "nbconvert_exporter": "python",
   "pygments_lexer": "ipython3",
   "version": "3.8.8"
  }
 },
 "nbformat": 4,
 "nbformat_minor": 5
}
